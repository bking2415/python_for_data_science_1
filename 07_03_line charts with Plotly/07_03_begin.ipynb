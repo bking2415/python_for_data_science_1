{
 "cells": [
  {
   "cell_type": "markdown",
   "metadata": {},
   "source": [
    "# Chapter 7 - Collaborative Analytics with Plotly\n",
    "## Segment 1 - Creating basic charts\n",
    "### Setting up to use Plotly within Jupyter"
   ]
  },
  {
   "cell_type": "code",
   "execution_count": 27,
   "metadata": {},
   "outputs": [
    {
     "name": "stdout",
     "output_type": "stream",
     "text": [
      "Requirement already satisfied: Plotly in /Users/brandonking/PycharmProjects/python_for_data_science_1/tensorflow/lib/python3.8/site-packages (5.3.1)\r\n",
      "Requirement already satisfied: six in /Users/brandonking/PycharmProjects/python_for_data_science_1/tensorflow/lib/python3.8/site-packages (from Plotly) (1.16.0)\r\n",
      "Requirement already satisfied: tenacity>=6.2.0 in /Users/brandonking/PycharmProjects/python_for_data_science_1/tensorflow/lib/python3.8/site-packages (from Plotly) (8.0.1)\r\n",
      "\u001B[33mWARNING: You are using pip version 21.1.2; however, version 21.3.1 is available.\r\n",
      "You should consider upgrading via the '/Users/brandonking/PycharmProjects/python_for_data_science_1/tensorflow/bin/python -m pip install --upgrade pip' command.\u001B[0m\r\n"
     ]
    }
   ],
   "source": [
    "! pip install Plotly"
   ]
  },
  {
   "cell_type": "code",
   "execution_count": 28,
   "metadata": {},
   "outputs": [
    {
     "name": "stdout",
     "output_type": "stream",
     "text": [
      "Requirement already satisfied: cufflinks in /Users/brandonking/PycharmProjects/python_for_data_science_1/tensorflow/lib/python3.8/site-packages (0.17.3)\r\n",
      "Requirement already satisfied: setuptools>=34.4.1 in /Users/brandonking/PycharmProjects/python_for_data_science_1/tensorflow/lib/python3.8/site-packages (from cufflinks) (57.0.0)\r\n",
      "Requirement already satisfied: plotly>=4.1.1 in /Users/brandonking/PycharmProjects/python_for_data_science_1/tensorflow/lib/python3.8/site-packages (from cufflinks) (5.3.1)\r\n",
      "Requirement already satisfied: ipywidgets>=7.0.0 in /Users/brandonking/PycharmProjects/python_for_data_science_1/tensorflow/lib/python3.8/site-packages (from cufflinks) (7.6.5)\r\n",
      "Requirement already satisfied: colorlover>=0.2.1 in /Users/brandonking/PycharmProjects/python_for_data_science_1/tensorflow/lib/python3.8/site-packages (from cufflinks) (0.3.0)\r\n",
      "Requirement already satisfied: numpy>=1.9.2 in /Users/brandonking/PycharmProjects/python_for_data_science_1/tensorflow/lib/python3.8/site-packages (from cufflinks) (1.21.4)\r\n",
      "Requirement already satisfied: ipython>=5.3.0 in /Users/brandonking/PycharmProjects/python_for_data_science_1/tensorflow/lib/python3.8/site-packages (from cufflinks) (7.29.0)\r\n",
      "Requirement already satisfied: six>=1.9.0 in /Users/brandonking/PycharmProjects/python_for_data_science_1/tensorflow/lib/python3.8/site-packages (from cufflinks) (1.16.0)\r\n",
      "Requirement already satisfied: pandas>=0.19.2 in /Users/brandonking/PycharmProjects/python_for_data_science_1/tensorflow/lib/python3.8/site-packages (from cufflinks) (1.3.4)\r\n",
      "Requirement already satisfied: decorator in /Users/brandonking/PycharmProjects/python_for_data_science_1/tensorflow/lib/python3.8/site-packages (from ipython>=5.3.0->cufflinks) (5.1.0)\r\n",
      "Requirement already satisfied: backcall in /Users/brandonking/PycharmProjects/python_for_data_science_1/tensorflow/lib/python3.8/site-packages (from ipython>=5.3.0->cufflinks) (0.2.0)\r\n",
      "Requirement already satisfied: appnope in /Users/brandonking/PycharmProjects/python_for_data_science_1/tensorflow/lib/python3.8/site-packages (from ipython>=5.3.0->cufflinks) (0.1.2)\r\n",
      "Requirement already satisfied: matplotlib-inline in /Users/brandonking/PycharmProjects/python_for_data_science_1/tensorflow/lib/python3.8/site-packages (from ipython>=5.3.0->cufflinks) (0.1.3)\r\n",
      "Requirement already satisfied: pickleshare in /Users/brandonking/PycharmProjects/python_for_data_science_1/tensorflow/lib/python3.8/site-packages (from ipython>=5.3.0->cufflinks) (0.7.5)\r\n",
      "Requirement already satisfied: jedi>=0.16 in /Users/brandonking/PycharmProjects/python_for_data_science_1/tensorflow/lib/python3.8/site-packages (from ipython>=5.3.0->cufflinks) (0.18.0)\r\n",
      "Requirement already satisfied: pygments in /Users/brandonking/PycharmProjects/python_for_data_science_1/tensorflow/lib/python3.8/site-packages (from ipython>=5.3.0->cufflinks) (2.10.0)\r\n",
      "Requirement already satisfied: prompt-toolkit!=3.0.0,!=3.0.1,<3.1.0,>=2.0.0 in /Users/brandonking/PycharmProjects/python_for_data_science_1/tensorflow/lib/python3.8/site-packages (from ipython>=5.3.0->cufflinks) (3.0.22)\r\n",
      "Requirement already satisfied: traitlets>=4.2 in /Users/brandonking/PycharmProjects/python_for_data_science_1/tensorflow/lib/python3.8/site-packages (from ipython>=5.3.0->cufflinks) (5.1.1)\r\n",
      "Requirement already satisfied: pexpect>4.3 in /Users/brandonking/PycharmProjects/python_for_data_science_1/tensorflow/lib/python3.8/site-packages (from ipython>=5.3.0->cufflinks) (4.8.0)\r\n",
      "Requirement already satisfied: jupyterlab-widgets>=1.0.0 in /Users/brandonking/PycharmProjects/python_for_data_science_1/tensorflow/lib/python3.8/site-packages (from ipywidgets>=7.0.0->cufflinks) (1.0.2)\r\n",
      "Requirement already satisfied: ipython-genutils~=0.2.0 in /Users/brandonking/PycharmProjects/python_for_data_science_1/tensorflow/lib/python3.8/site-packages (from ipywidgets>=7.0.0->cufflinks) (0.2.0)\r\n",
      "Requirement already satisfied: widgetsnbextension~=3.5.0 in /Users/brandonking/PycharmProjects/python_for_data_science_1/tensorflow/lib/python3.8/site-packages (from ipywidgets>=7.0.0->cufflinks) (3.5.2)\r\n",
      "Requirement already satisfied: nbformat>=4.2.0 in /Users/brandonking/PycharmProjects/python_for_data_science_1/tensorflow/lib/python3.8/site-packages (from ipywidgets>=7.0.0->cufflinks) (5.1.3)\r\n",
      "Requirement already satisfied: ipykernel>=4.5.1 in /Users/brandonking/PycharmProjects/python_for_data_science_1/tensorflow/lib/python3.8/site-packages (from ipywidgets>=7.0.0->cufflinks) (6.5.0)\r\n",
      "Requirement already satisfied: debugpy<2.0,>=1.0.0 in /Users/brandonking/PycharmProjects/python_for_data_science_1/tensorflow/lib/python3.8/site-packages (from ipykernel>=4.5.1->ipywidgets>=7.0.0->cufflinks) (1.5.1)\r\n",
      "Requirement already satisfied: jupyter-client<8.0 in /Users/brandonking/PycharmProjects/python_for_data_science_1/tensorflow/lib/python3.8/site-packages (from ipykernel>=4.5.1->ipywidgets>=7.0.0->cufflinks) (7.0.6)\r\n",
      "Requirement already satisfied: tornado<7.0,>=4.2 in /Users/brandonking/PycharmProjects/python_for_data_science_1/tensorflow/lib/python3.8/site-packages (from ipykernel>=4.5.1->ipywidgets>=7.0.0->cufflinks) (6.1)\r\n",
      "Requirement already satisfied: parso<0.9.0,>=0.8.0 in /Users/brandonking/PycharmProjects/python_for_data_science_1/tensorflow/lib/python3.8/site-packages (from jedi>=0.16->ipython>=5.3.0->cufflinks) (0.8.2)\r\n",
      "Requirement already satisfied: python-dateutil>=2.1 in /Users/brandonking/PycharmProjects/python_for_data_science_1/tensorflow/lib/python3.8/site-packages (from jupyter-client<8.0->ipykernel>=4.5.1->ipywidgets>=7.0.0->cufflinks) (2.8.2)\r\n",
      "Requirement already satisfied: nest-asyncio>=1.5 in /Users/brandonking/PycharmProjects/python_for_data_science_1/tensorflow/lib/python3.8/site-packages (from jupyter-client<8.0->ipykernel>=4.5.1->ipywidgets>=7.0.0->cufflinks) (1.5.1)\r\n",
      "Requirement already satisfied: jupyter-core>=4.6.0 in /Users/brandonking/PycharmProjects/python_for_data_science_1/tensorflow/lib/python3.8/site-packages (from jupyter-client<8.0->ipykernel>=4.5.1->ipywidgets>=7.0.0->cufflinks) (4.9.1)\r\n",
      "Requirement already satisfied: entrypoints in /Users/brandonking/PycharmProjects/python_for_data_science_1/tensorflow/lib/python3.8/site-packages (from jupyter-client<8.0->ipykernel>=4.5.1->ipywidgets>=7.0.0->cufflinks) (0.3)\r\n",
      "Requirement already satisfied: pyzmq>=13 in /Users/brandonking/PycharmProjects/python_for_data_science_1/tensorflow/lib/python3.8/site-packages (from jupyter-client<8.0->ipykernel>=4.5.1->ipywidgets>=7.0.0->cufflinks) (22.3.0)\r\n",
      "Requirement already satisfied: jsonschema!=2.5.0,>=2.4 in /Users/brandonking/PycharmProjects/python_for_data_science_1/tensorflow/lib/python3.8/site-packages (from nbformat>=4.2.0->ipywidgets>=7.0.0->cufflinks) (4.2.1)\r\n",
      "Requirement already satisfied: attrs>=17.4.0 in /Users/brandonking/PycharmProjects/python_for_data_science_1/tensorflow/lib/python3.8/site-packages (from jsonschema!=2.5.0,>=2.4->nbformat>=4.2.0->ipywidgets>=7.0.0->cufflinks) (21.2.0)\r\n",
      "Requirement already satisfied: pyrsistent!=0.17.0,!=0.17.1,!=0.17.2,>=0.14.0 in /Users/brandonking/PycharmProjects/python_for_data_science_1/tensorflow/lib/python3.8/site-packages (from jsonschema!=2.5.0,>=2.4->nbformat>=4.2.0->ipywidgets>=7.0.0->cufflinks) (0.18.0)\r\n",
      "Requirement already satisfied: importlib-resources>=1.4.0 in /Users/brandonking/PycharmProjects/python_for_data_science_1/tensorflow/lib/python3.8/site-packages (from jsonschema!=2.5.0,>=2.4->nbformat>=4.2.0->ipywidgets>=7.0.0->cufflinks) (5.4.0)\r\n",
      "Requirement already satisfied: zipp>=3.1.0 in /Users/brandonking/PycharmProjects/python_for_data_science_1/tensorflow/lib/python3.8/site-packages (from importlib-resources>=1.4.0->jsonschema!=2.5.0,>=2.4->nbformat>=4.2.0->ipywidgets>=7.0.0->cufflinks) (3.6.0)\r\n",
      "Requirement already satisfied: pytz>=2017.3 in /Users/brandonking/PycharmProjects/python_for_data_science_1/tensorflow/lib/python3.8/site-packages (from pandas>=0.19.2->cufflinks) (2021.3)\r\n",
      "Requirement already satisfied: ptyprocess>=0.5 in /Users/brandonking/PycharmProjects/python_for_data_science_1/tensorflow/lib/python3.8/site-packages (from pexpect>4.3->ipython>=5.3.0->cufflinks) (0.7.0)\r\n",
      "Requirement already satisfied: tenacity>=6.2.0 in /Users/brandonking/PycharmProjects/python_for_data_science_1/tensorflow/lib/python3.8/site-packages (from plotly>=4.1.1->cufflinks) (8.0.1)\r\n",
      "Requirement already satisfied: wcwidth in /Users/brandonking/PycharmProjects/python_for_data_science_1/tensorflow/lib/python3.8/site-packages (from prompt-toolkit!=3.0.0,!=3.0.1,<3.1.0,>=2.0.0->ipython>=5.3.0->cufflinks) (0.2.5)\r\n",
      "Requirement already satisfied: notebook>=4.4.1 in /Users/brandonking/PycharmProjects/python_for_data_science_1/tensorflow/lib/python3.8/site-packages (from widgetsnbextension~=3.5.0->ipywidgets>=7.0.0->cufflinks) (6.4.5)\r\n",
      "Requirement already satisfied: nbconvert in /Users/brandonking/PycharmProjects/python_for_data_science_1/tensorflow/lib/python3.8/site-packages (from notebook>=4.4.1->widgetsnbextension~=3.5.0->ipywidgets>=7.0.0->cufflinks) (6.2.0)\r\n",
      "Requirement already satisfied: argon2-cffi in /Users/brandonking/PycharmProjects/python_for_data_science_1/tensorflow/lib/python3.8/site-packages (from notebook>=4.4.1->widgetsnbextension~=3.5.0->ipywidgets>=7.0.0->cufflinks) (21.1.0)\r\n",
      "Requirement already satisfied: Send2Trash>=1.5.0 in /Users/brandonking/PycharmProjects/python_for_data_science_1/tensorflow/lib/python3.8/site-packages (from notebook>=4.4.1->widgetsnbextension~=3.5.0->ipywidgets>=7.0.0->cufflinks) (1.8.0)\r\n",
      "Requirement already satisfied: prometheus-client in /Users/brandonking/PycharmProjects/python_for_data_science_1/tensorflow/lib/python3.8/site-packages (from notebook>=4.4.1->widgetsnbextension~=3.5.0->ipywidgets>=7.0.0->cufflinks) (0.12.0)\r\n",
      "Requirement already satisfied: jinja2 in /Users/brandonking/PycharmProjects/python_for_data_science_1/tensorflow/lib/python3.8/site-packages (from notebook>=4.4.1->widgetsnbextension~=3.5.0->ipywidgets>=7.0.0->cufflinks) (3.0.3)\r\n",
      "Requirement already satisfied: terminado>=0.8.3 in /Users/brandonking/PycharmProjects/python_for_data_science_1/tensorflow/lib/python3.8/site-packages (from notebook>=4.4.1->widgetsnbextension~=3.5.0->ipywidgets>=7.0.0->cufflinks) (0.12.1)\r\n",
      "Requirement already satisfied: cffi>=1.0.0 in /Users/brandonking/PycharmProjects/python_for_data_science_1/tensorflow/lib/python3.8/site-packages (from argon2-cffi->notebook>=4.4.1->widgetsnbextension~=3.5.0->ipywidgets>=7.0.0->cufflinks) (1.15.0)\r\n",
      "Requirement already satisfied: pycparser in /Users/brandonking/PycharmProjects/python_for_data_science_1/tensorflow/lib/python3.8/site-packages (from cffi>=1.0.0->argon2-cffi->notebook>=4.4.1->widgetsnbextension~=3.5.0->ipywidgets>=7.0.0->cufflinks) (2.21)\r\n",
      "Requirement already satisfied: MarkupSafe>=2.0 in /Users/brandonking/PycharmProjects/python_for_data_science_1/tensorflow/lib/python3.8/site-packages (from jinja2->notebook>=4.4.1->widgetsnbextension~=3.5.0->ipywidgets>=7.0.0->cufflinks) (2.0.1)\r\n",
      "Requirement already satisfied: bleach in /Users/brandonking/PycharmProjects/python_for_data_science_1/tensorflow/lib/python3.8/site-packages (from nbconvert->notebook>=4.4.1->widgetsnbextension~=3.5.0->ipywidgets>=7.0.0->cufflinks) (4.1.0)\r\n",
      "Requirement already satisfied: nbclient<0.6.0,>=0.5.0 in /Users/brandonking/PycharmProjects/python_for_data_science_1/tensorflow/lib/python3.8/site-packages (from nbconvert->notebook>=4.4.1->widgetsnbextension~=3.5.0->ipywidgets>=7.0.0->cufflinks) (0.5.5)\r\n",
      "Requirement already satisfied: defusedxml in /Users/brandonking/PycharmProjects/python_for_data_science_1/tensorflow/lib/python3.8/site-packages (from nbconvert->notebook>=4.4.1->widgetsnbextension~=3.5.0->ipywidgets>=7.0.0->cufflinks) (0.7.1)\r\n",
      "Requirement already satisfied: pandocfilters>=1.4.1 in /Users/brandonking/PycharmProjects/python_for_data_science_1/tensorflow/lib/python3.8/site-packages (from nbconvert->notebook>=4.4.1->widgetsnbextension~=3.5.0->ipywidgets>=7.0.0->cufflinks) (1.5.0)\r\n",
      "Requirement already satisfied: mistune<2,>=0.8.1 in /Users/brandonking/PycharmProjects/python_for_data_science_1/tensorflow/lib/python3.8/site-packages (from nbconvert->notebook>=4.4.1->widgetsnbextension~=3.5.0->ipywidgets>=7.0.0->cufflinks) (0.8.4)\r\n",
      "Requirement already satisfied: jupyterlab-pygments in /Users/brandonking/PycharmProjects/python_for_data_science_1/tensorflow/lib/python3.8/site-packages (from nbconvert->notebook>=4.4.1->widgetsnbextension~=3.5.0->ipywidgets>=7.0.0->cufflinks) (0.1.2)\r\n",
      "Requirement already satisfied: testpath in /Users/brandonking/PycharmProjects/python_for_data_science_1/tensorflow/lib/python3.8/site-packages (from nbconvert->notebook>=4.4.1->widgetsnbextension~=3.5.0->ipywidgets>=7.0.0->cufflinks) (0.5.0)\r\n",
      "Requirement already satisfied: packaging in /Users/brandonking/PycharmProjects/python_for_data_science_1/tensorflow/lib/python3.8/site-packages (from bleach->nbconvert->notebook>=4.4.1->widgetsnbextension~=3.5.0->ipywidgets>=7.0.0->cufflinks) (21.2)\r\n",
      "Requirement already satisfied: webencodings in /Users/brandonking/PycharmProjects/python_for_data_science_1/tensorflow/lib/python3.8/site-packages (from bleach->nbconvert->notebook>=4.4.1->widgetsnbextension~=3.5.0->ipywidgets>=7.0.0->cufflinks) (0.5.1)\r\n",
      "Requirement already satisfied: pyparsing<3,>=2.0.2 in /Users/brandonking/PycharmProjects/python_for_data_science_1/tensorflow/lib/python3.8/site-packages (from packaging->bleach->nbconvert->notebook>=4.4.1->widgetsnbextension~=3.5.0->ipywidgets>=7.0.0->cufflinks) (2.4.7)\r\n",
      "\u001B[33mWARNING: You are using pip version 21.1.2; however, version 21.3.1 is available.\r\n",
      "You should consider upgrading via the '/Users/brandonking/PycharmProjects/python_for_data_science_1/tensorflow/bin/python -m pip install --upgrade pip' command.\u001B[0m\r\n"
     ]
    }
   ],
   "source": [
    "! pip install cufflinks"
   ]
  },
  {
   "cell_type": "code",
   "execution_count": 29,
   "outputs": [
    {
     "name": "stdout",
     "output_type": "stream",
     "text": [
      "Requirement already satisfied: chart_studio in /Users/brandonking/PycharmProjects/python_for_data_science_1/tensorflow/lib/python3.8/site-packages (1.1.0)\r\n",
      "Requirement already satisfied: six in /Users/brandonking/PycharmProjects/python_for_data_science_1/tensorflow/lib/python3.8/site-packages (from chart_studio) (1.16.0)\r\n",
      "Requirement already satisfied: retrying>=1.3.3 in /Users/brandonking/PycharmProjects/python_for_data_science_1/tensorflow/lib/python3.8/site-packages (from chart_studio) (1.3.3)\r\n",
      "Requirement already satisfied: plotly in /Users/brandonking/PycharmProjects/python_for_data_science_1/tensorflow/lib/python3.8/site-packages (from chart_studio) (5.3.1)\r\n",
      "Requirement already satisfied: requests in /Users/brandonking/PycharmProjects/python_for_data_science_1/tensorflow/lib/python3.8/site-packages (from chart_studio) (2.26.0)\r\n",
      "Requirement already satisfied: tenacity>=6.2.0 in /Users/brandonking/PycharmProjects/python_for_data_science_1/tensorflow/lib/python3.8/site-packages (from plotly->chart_studio) (8.0.1)\r\n",
      "Requirement already satisfied: charset-normalizer~=2.0.0 in /Users/brandonking/PycharmProjects/python_for_data_science_1/tensorflow/lib/python3.8/site-packages (from requests->chart_studio) (2.0.7)\r\n",
      "Requirement already satisfied: idna<4,>=2.5 in /Users/brandonking/PycharmProjects/python_for_data_science_1/tensorflow/lib/python3.8/site-packages (from requests->chart_studio) (3.3)\r\n",
      "Requirement already satisfied: certifi>=2017.4.17 in /Users/brandonking/PycharmProjects/python_for_data_science_1/tensorflow/lib/python3.8/site-packages (from requests->chart_studio) (2021.10.8)\r\n",
      "Requirement already satisfied: urllib3<1.27,>=1.21.1 in /Users/brandonking/PycharmProjects/python_for_data_science_1/tensorflow/lib/python3.8/site-packages (from requests->chart_studio) (1.26.7)\r\n",
      "\u001B[33mWARNING: You are using pip version 21.1.2; however, version 21.3.1 is available.\r\n",
      "You should consider upgrading via the '/Users/brandonking/PycharmProjects/python_for_data_science_1/tensorflow/bin/python -m pip install --upgrade pip' command.\u001B[0m\r\n"
     ]
    }
   ],
   "source": [
    "! pip install chart_studio"
   ],
   "metadata": {
    "collapsed": false,
    "pycharm": {
     "name": "#%%\n"
    }
   }
  },
  {
   "cell_type": "code",
   "execution_count": 30,
   "metadata": {},
   "outputs": [],
   "source": [
    "import numpy as np\n",
    "import pandas as pd\n",
    "\n",
    "import cufflinks as cf\n",
    "\n",
    "import plotly.express as px\n",
    "import plotly.figure_factory as ff\n",
    "import plotly.graph_objs as go\n",
    "import plotly.offline as py"
   ]
  },
  {
   "cell_type": "code",
   "execution_count": 31,
   "metadata": {},
   "outputs": [],
   "source": [
    "# tls.set_credentials_file(username='', api_key='')"
   ]
  },
  {
   "cell_type": "markdown",
   "metadata": {},
   "source": [
    "### Creating line charts"
   ]
  },
  {
   "cell_type": "markdown",
   "metadata": {},
   "source": [
    "#### A very basic line chart"
   ]
  },
  {
   "cell_type": "code",
   "execution_count": 32,
   "metadata": {},
   "outputs": [
    {
     "data": {
      "text/plain": "'basic-line.html'"
     },
     "execution_count": 32,
     "metadata": {},
     "output_type": "execute_result"
    }
   ],
   "source": [
    "a = np.linspace(start=0, stop=36, num=26)\n",
    "\n",
    "np.random.seed(25)\n",
    "\n",
    "b = np.random.uniform(low=0.0, high=1.0, size=36)\n",
    "\n",
    "trace = go.Scatter(x=a, y=b)\n",
    "\n",
    "data = [trace]\n",
    "# plot data offline\n",
    "py.plot(data, filename='basic-line')"
   ]
  },
  {
   "cell_type": "markdown",
   "source": [
    "#### A line chart with more than one variable plotted\n"
   ],
   "metadata": {
    "collapsed": false
   }
  },
  {
   "cell_type": "markdown",
   "metadata": {},
   "source": [
    "#### A line chart from a pandas dataframe "
   ]
  },
  {
   "cell_type": "code",
   "execution_count": 33,
   "metadata": {
    "pycharm": {
     "name": "#%%\n"
    }
   },
   "outputs": [],
   "source": [
    "# plotly backend\n",
    "pd.options.plotting.backend = \"plotly\"\n",
    "address = '/Users/brandonking/PycharmProjects/python_for_data_science_1/Data/mtcars.csv'\n",
    "\n",
    "cars = pd.read_csv(address)\n",
    "cars.columns = ['car_names','mpg','cyl','disp', 'hp', 'drat', 'wt', 'qsec', 'vs', 'am', 'gear', 'carb']\n",
    "\n",
    "df = cars[['cyl', 'wt','mpg']]\n",
    "\n",
    "# layout = dict(title='Chart from Pandas DataFrame', xaxis= dict(title='x-axis'), yaxis= dict(title='y-axis'))\n",
    "\n",
    "fig = df.plot()\n",
    "# Update the labels and title\n",
    "fig.update_layout(\n",
    "    title='Chart from Pandas DataFrame',\n",
    "    xaxis_title='x-axis',\n",
    "    yaxis_title='y-axis'\n",
    "    )\n",
    "\n",
    "py.plot(fig, filename='cf-simple-line-chart')"
   ]
  }
 ],
 "metadata": {
  "anaconda-cloud": {},
  "kernelspec": {
   "display_name": "Python 3",
   "language": "python",
   "name": "python3"
  },
  "language_info": {
   "codemirror_mode": {
    "name": "ipython",
    "version": 3
   },
   "file_extension": ".py",
   "mimetype": "text/x-python",
   "name": "python",
   "nbconvert_exporter": "python",
   "pygments_lexer": "ipython3",
   "version": "3.7.3"
  }
 },
 "nbformat": 4,
 "nbformat_minor": 1
}