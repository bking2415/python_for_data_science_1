{
 "cells": [
  {
   "cell_type": "markdown",
   "metadata": {},
   "source": [
    "# Chapter 7 - Collaborative Analytics with Plotly\n",
    "## Segment  2 - Creating statistical charts\n",
    "#### Setting up to use Plotly within Jupyter"
   ]
  },
  {
   "cell_type": "code",
   "execution_count": 2,
   "metadata": {},
   "outputs": [],
   "source": [
    "import numpy as np\n",
    "import pandas as pd\n",
    "\n",
    "import cufflinks as cf\n",
    "\n",
    "import plotly.express as px\n",
    "import plotly.figure_factory as ff\n",
    "import plotly.graph_objs as go\n",
    "import plotly.offline as py\n",
    "\n",
    "import sklearn\n",
    "from sklearn.preprocessing import StandardScaler"
   ]
  },
  {
   "cell_type": "code",
   "execution_count": 3,
   "metadata": {},
   "outputs": [],
   "source": [
    "# tls.set_credentials_file(username='', api_key='')"
   ]
  },
  {
   "cell_type": "markdown",
   "metadata": {},
   "source": [
    "### Creating histograms\n",
    "#### Make a histogram from a pandas Series object"
   ]
  },
  {
   "cell_type": "code",
   "execution_count": 6,
   "metadata": {},
   "outputs": [
    {
     "name": "stderr",
     "output_type": "stream",
     "text": [
      "/Users/brandonking/PycharmProjects/python_for_data_science_1/tensorflow/lib/python3.8/site-packages/plotly/offline/offline.py:562: UserWarning:\n",
      "\n",
      "Your filename `simple-histogram-chart` didn't end with .html. Adding .html to the end of your file.\n",
      "\n"
     ]
    },
    {
     "data": {
      "text/plain": "'simple-histogram-chart.html'"
     },
     "execution_count": 6,
     "metadata": {},
     "output_type": "execute_result"
    }
   ],
   "source": [
    "# plotly backend\n",
    "pd.options.plotting.backend = \"plotly\"\n",
    "address = '/Users/brandonking/PycharmProjects/python_for_data_science_1/Data/mtcars.csv'\n",
    "\n",
    "cars = pd.read_csv(address)\n",
    "cars.columns = ['car_names','mpg','cyl','disp', 'hp', 'drat', 'wt', 'qsec', 'vs', 'am', 'gear', 'carb']\n",
    "\n",
    "mpg = cars.mpg\n",
    "\n",
    "fig = mpg.plot(kind='histogram')\n",
    "\n",
    "py.plot(fig, filename='simple-histogram-chart')"
   ]
  },
  {
   "cell_type": "code",
   "execution_count": 7,
   "metadata": {},
   "outputs": [
    {
     "name": "stderr",
     "output_type": "stream",
     "text": [
      "/Users/brandonking/PycharmProjects/python_for_data_science_1/tensorflow/lib/python3.8/site-packages/plotly/offline/offline.py:562: UserWarning:\n",
      "\n",
      "Your filename `multiple-histogram-chart` didn't end with .html. Adding .html to the end of your file.\n",
      "\n"
     ]
    },
    {
     "data": {
      "text/plain": "'multiple-histogram-chart.html'"
     },
     "execution_count": 7,
     "metadata": {},
     "output_type": "execute_result"
    }
   ],
   "source": [
    "cars_subset = cars[['mpg', 'disp', 'hp']]\n",
    "\n",
    "cars_data_std = StandardScaler().fit_transform(cars_subset)\n",
    "\n",
    "cars_select = pd.DataFrame(cars_data_std)\n",
    "cars_select.columns = ['mpg', 'disp', 'hp']\n",
    "\n",
    "fig = cars_select.plot(kind='histogram')\n",
    "\n",
    "py.plot(fig, filename='multiple-histogram-chart')"
   ]
  },
  {
   "cell_type": "code",
   "execution_count": 16,
   "metadata": {
    "scrolled": false
   },
   "outputs": [
    {
     "data": {
      "text/plain": "'subplot-histograms.html'"
     },
     "execution_count": 16,
     "metadata": {},
     "output_type": "execute_result"
    }
   ],
   "source": [
    "# Subplot histograms\n",
    "from plotly.subplots import make_subplots\n",
    "\n",
    "fig = make_subplots(rows=2, cols=2)\n",
    "\n",
    "trace0 = go.Histogram(x=cars_select['mpg'])\n",
    "trace1 = go.Histogram(x=cars_select['disp'])\n",
    "trace2 = go.Histogram(x=cars_select['hp'])\n",
    "\n",
    "fig.append_trace(trace0, 1, 1)\n",
    "fig.append_trace(trace1, 1, 2)\n",
    "fig.append_trace(trace2, 2, 1)\n",
    "\n",
    "py.plot(fig, filename='subplot-histograms')"
   ]
  },
  {
   "cell_type": "code",
   "execution_count": 17,
   "metadata": {},
   "outputs": [
    {
     "data": {
      "text/plain": "'subplot-histograms.html'"
     },
     "execution_count": 17,
     "metadata": {},
     "output_type": "execute_result"
    }
   ],
   "source": [
    "# Subplot histograms (1 by 3)\n",
    "from plotly.subplots import make_subplots\n",
    "\n",
    "fig = make_subplots(rows=1, cols=3)\n",
    "\n",
    "trace0 = go.Histogram(x=cars_select['mpg'])\n",
    "trace1 = go.Histogram(x=cars_select['disp'])\n",
    "trace2 = go.Histogram(x=cars_select['hp'])\n",
    "\n",
    "fig.append_trace(trace0, 1, 1)\n",
    "fig.append_trace(trace1, 1, 2)\n",
    "fig.append_trace(trace2, 1, 3)\n",
    "\n",
    "py.plot(fig, filename='subplot-histograms')\n"
   ]
  },
  {
   "cell_type": "code",
   "execution_count": 18,
   "metadata": {},
   "outputs": [
    {
     "data": {
      "text/plain": "'subplot-histograms.html'"
     },
     "execution_count": 18,
     "metadata": {},
     "output_type": "execute_result"
    }
   ],
   "source": [
    "# Subplot histograms (3 by 1)\n",
    "from plotly.subplots import make_subplots\n",
    "\n",
    "fig = make_subplots(rows=3, cols=1)\n",
    "\n",
    "trace0 = go.Histogram(x=cars_select['mpg'])\n",
    "trace1 = go.Histogram(x=cars_select['disp'])\n",
    "trace2 = go.Histogram(x=cars_select['hp'])\n",
    "\n",
    "fig.append_trace(trace0, 1, 1)\n",
    "fig.append_trace(trace1, 2, 1)\n",
    "fig.append_trace(trace2, 3, 1)\n",
    "\n",
    "py.plot(fig, filename='subplot-histograms')"
   ]
  },
  {
   "cell_type": "markdown",
   "metadata": {},
   "source": [
    "### Creating box plots"
   ]
  },
  {
   "cell_type": "code",
   "execution_count": 19,
   "metadata": {},
   "outputs": [
    {
     "name": "stderr",
     "output_type": "stream",
     "text": [
      "/Users/brandonking/PycharmProjects/python_for_data_science_1/tensorflow/lib/python3.8/site-packages/plotly/offline/offline.py:562: UserWarning:\n",
      "\n",
      "Your filename `box-plot` didn't end with .html. Adding .html to the end of your file.\n",
      "\n"
     ]
    },
    {
     "data": {
      "text/plain": "'box-plot.html'"
     },
     "execution_count": 19,
     "metadata": {},
     "output_type": "execute_result"
    }
   ],
   "source": [
    "fig = cars_select.plot(kind='box')\n",
    "\n",
    "py.plot(fig, filename='box-plot')\n"
   ]
  },
  {
   "cell_type": "markdown",
   "metadata": {},
   "source": [
    "### Creating scatter plots"
   ]
  },
  {
   "cell_type": "code",
   "execution_count": 20,
   "metadata": {},
   "outputs": [
    {
     "name": "stderr",
     "output_type": "stream",
     "text": [
      "/Users/brandonking/PycharmProjects/python_for_data_science_1/tensorflow/lib/python3.8/site-packages/plotly/offline/offline.py:562: UserWarning:\n",
      "\n",
      "Your filename `grouped-scatter-plot` didn't end with .html. Adding .html to the end of your file.\n",
      "\n"
     ]
    },
    {
     "data": {
      "text/plain": "'grouped-scatter-plot.html'"
     },
     "execution_count": 20,
     "metadata": {},
     "output_type": "execute_result"
    }
   ],
   "source": [
    "fig = {'data':[{'x': cars_select.mpg, 'y':cars_select.disp, 'mode':'markers', 'name':'mpg'},\n",
    "              {'x': cars_select.hp, 'y':cars_select.disp, 'mode':'markers', 'name':'hp'}],\n",
    "       'layout': {'xaxis':{'title':''}, 'yaxis':{'title':'Standardized Displacement'}}}\n",
    "py.plot(fig, filename= 'grouped-scatter-plot')"
   ]
  },
  {
   "cell_type": "code",
   "execution_count": null,
   "metadata": {},
   "outputs": [],
   "source": []
  }
 ],
 "metadata": {
  "anaconda-cloud": {},
  "kernelspec": {
   "display_name": "Python 3",
   "language": "python",
   "name": "python3"
  },
  "language_info": {
   "codemirror_mode": {
    "name": "ipython",
    "version": 3
   },
   "file_extension": ".py",
   "mimetype": "text/x-python",
   "name": "python",
   "nbconvert_exporter": "python",
   "pygments_lexer": "ipython3",
   "version": "3.7.3"
  }
 },
 "nbformat": 4,
 "nbformat_minor": 1
}