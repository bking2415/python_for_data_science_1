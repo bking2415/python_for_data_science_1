{
 "cells": [
  {
   "cell_type": "markdown",
   "metadata": {},
   "source": [
    "# Chapter 2 - Data Preparation Basics\n",
    "## Segment 3 - Removing duplicates"
   ]
  },
  {
   "cell_type": "code",
   "execution_count": 1,
   "metadata": {},
   "outputs": [],
   "source": [
    "import numpy as np\n",
    "import pandas as pd\n",
    "\n",
    "from pandas import Series, DataFrame"
   ]
  },
  {
   "cell_type": "markdown",
   "metadata": {},
   "source": [
    "### Removing duplicates"
   ]
  },
  {
   "cell_type": "code",
   "execution_count": 2,
   "metadata": {},
   "outputs": [
    {
     "data": {
      "text/plain": "   column 1 column 2 column 3\n0         1        a        A\n1         1        a        A\n2         2        b        B\n3         2        b        B\n4         3        c        C\n5         3        c        C\n6         3        c        C",
      "text/html": "<div>\n<style scoped>\n    .dataframe tbody tr th:only-of-type {\n        vertical-align: middle;\n    }\n\n    .dataframe tbody tr th {\n        vertical-align: top;\n    }\n\n    .dataframe thead th {\n        text-align: right;\n    }\n</style>\n<table border=\"1\" class=\"dataframe\">\n  <thead>\n    <tr style=\"text-align: right;\">\n      <th></th>\n      <th>column 1</th>\n      <th>column 2</th>\n      <th>column 3</th>\n    </tr>\n  </thead>\n  <tbody>\n    <tr>\n      <th>0</th>\n      <td>1</td>\n      <td>a</td>\n      <td>A</td>\n    </tr>\n    <tr>\n      <th>1</th>\n      <td>1</td>\n      <td>a</td>\n      <td>A</td>\n    </tr>\n    <tr>\n      <th>2</th>\n      <td>2</td>\n      <td>b</td>\n      <td>B</td>\n    </tr>\n    <tr>\n      <th>3</th>\n      <td>2</td>\n      <td>b</td>\n      <td>B</td>\n    </tr>\n    <tr>\n      <th>4</th>\n      <td>3</td>\n      <td>c</td>\n      <td>C</td>\n    </tr>\n    <tr>\n      <th>5</th>\n      <td>3</td>\n      <td>c</td>\n      <td>C</td>\n    </tr>\n    <tr>\n      <th>6</th>\n      <td>3</td>\n      <td>c</td>\n      <td>C</td>\n    </tr>\n  </tbody>\n</table>\n</div>"
     },
     "execution_count": 2,
     "metadata": {},
     "output_type": "execute_result"
    }
   ],
   "source": [
    "DF_obj = DataFrame({'column 1': [1, 1, 2, 2, 3, 3, 3],\n",
    "                    'column 2': ['a', 'a', 'b', 'b', 'c', 'c', 'c'],\n",
    "                    'column 3': ['A', 'A', 'B', 'B', 'C', 'C', 'C']})\n",
    "DF_obj"
   ]
  },
  {
   "cell_type": "code",
   "execution_count": 3,
   "metadata": {},
   "outputs": [
    {
     "data": {
      "text/plain": "0    False\n1     True\n2    False\n3     True\n4    False\n5     True\n6     True\ndtype: bool"
     },
     "execution_count": 3,
     "metadata": {},
     "output_type": "execute_result"
    }
   ],
   "source": [
    "# Returns booleans of duplicate rows\n",
    "DF_obj.duplicated()\n"
   ]
  },
  {
   "cell_type": "code",
   "execution_count": 5,
   "metadata": {},
   "outputs": [
    {
     "data": {
      "text/plain": "   column 1 column 2 column 3\n0         1        a        A\n2         2        b        B\n4         3        c        C",
      "text/html": "<div>\n<style scoped>\n    .dataframe tbody tr th:only-of-type {\n        vertical-align: middle;\n    }\n\n    .dataframe tbody tr th {\n        vertical-align: top;\n    }\n\n    .dataframe thead th {\n        text-align: right;\n    }\n</style>\n<table border=\"1\" class=\"dataframe\">\n  <thead>\n    <tr style=\"text-align: right;\">\n      <th></th>\n      <th>column 1</th>\n      <th>column 2</th>\n      <th>column 3</th>\n    </tr>\n  </thead>\n  <tbody>\n    <tr>\n      <th>0</th>\n      <td>1</td>\n      <td>a</td>\n      <td>A</td>\n    </tr>\n    <tr>\n      <th>2</th>\n      <td>2</td>\n      <td>b</td>\n      <td>B</td>\n    </tr>\n    <tr>\n      <th>4</th>\n      <td>3</td>\n      <td>c</td>\n      <td>C</td>\n    </tr>\n  </tbody>\n</table>\n</div>"
     },
     "execution_count": 5,
     "metadata": {},
     "output_type": "execute_result"
    }
   ],
   "source": [
    "# Drop Duplicated rows\n",
    "DF_obj.drop_duplicates()\n"
   ]
  },
  {
   "cell_type": "code",
   "execution_count": 6,
   "metadata": {},
   "outputs": [
    {
     "data": {
      "text/plain": "   column 1 column 2 column 3\n0         1        a        A\n1         1        a        A\n2         2        b        B\n3         2        b        B\n4         3        c        C\n5         3        c        D\n6         3        c        C",
      "text/html": "<div>\n<style scoped>\n    .dataframe tbody tr th:only-of-type {\n        vertical-align: middle;\n    }\n\n    .dataframe tbody tr th {\n        vertical-align: top;\n    }\n\n    .dataframe thead th {\n        text-align: right;\n    }\n</style>\n<table border=\"1\" class=\"dataframe\">\n  <thead>\n    <tr style=\"text-align: right;\">\n      <th></th>\n      <th>column 1</th>\n      <th>column 2</th>\n      <th>column 3</th>\n    </tr>\n  </thead>\n  <tbody>\n    <tr>\n      <th>0</th>\n      <td>1</td>\n      <td>a</td>\n      <td>A</td>\n    </tr>\n    <tr>\n      <th>1</th>\n      <td>1</td>\n      <td>a</td>\n      <td>A</td>\n    </tr>\n    <tr>\n      <th>2</th>\n      <td>2</td>\n      <td>b</td>\n      <td>B</td>\n    </tr>\n    <tr>\n      <th>3</th>\n      <td>2</td>\n      <td>b</td>\n      <td>B</td>\n    </tr>\n    <tr>\n      <th>4</th>\n      <td>3</td>\n      <td>c</td>\n      <td>C</td>\n    </tr>\n    <tr>\n      <th>5</th>\n      <td>3</td>\n      <td>c</td>\n      <td>D</td>\n    </tr>\n    <tr>\n      <th>6</th>\n      <td>3</td>\n      <td>c</td>\n      <td>C</td>\n    </tr>\n  </tbody>\n</table>\n</div>"
     },
     "execution_count": 6,
     "metadata": {},
     "output_type": "execute_result"
    }
   ],
   "source": [
    "DF_obj = DataFrame({'column 1': [1, 1, 2, 2, 3, 3, 3],\n",
    "                    'column 2': ['a', 'a', 'b', 'b', 'c', 'c', 'c'],\n",
    "                    'column 3': ['A', 'A', 'B', 'B', 'C', 'D', 'C']})\n",
    "DF_obj\n",
    "\n"
   ]
  },
  {
   "cell_type": "markdown",
   "metadata": {},
   "source": [
    "## Dropping Duplicates by Column"
   ]
  },
  {
   "cell_type": "code",
   "execution_count": 7,
   "metadata": {},
   "outputs": [
    {
     "data": {
      "text/plain": "   column 1 column 2 column 3\n0         1        a        A\n2         2        b        B\n4         3        c        C\n5         3        c        D",
      "text/html": "<div>\n<style scoped>\n    .dataframe tbody tr th:only-of-type {\n        vertical-align: middle;\n    }\n\n    .dataframe tbody tr th {\n        vertical-align: top;\n    }\n\n    .dataframe thead th {\n        text-align: right;\n    }\n</style>\n<table border=\"1\" class=\"dataframe\">\n  <thead>\n    <tr style=\"text-align: right;\">\n      <th></th>\n      <th>column 1</th>\n      <th>column 2</th>\n      <th>column 3</th>\n    </tr>\n  </thead>\n  <tbody>\n    <tr>\n      <th>0</th>\n      <td>1</td>\n      <td>a</td>\n      <td>A</td>\n    </tr>\n    <tr>\n      <th>2</th>\n      <td>2</td>\n      <td>b</td>\n      <td>B</td>\n    </tr>\n    <tr>\n      <th>4</th>\n      <td>3</td>\n      <td>c</td>\n      <td>C</td>\n    </tr>\n    <tr>\n      <th>5</th>\n      <td>3</td>\n      <td>c</td>\n      <td>D</td>\n    </tr>\n  </tbody>\n</table>\n</div>"
     },
     "execution_count": 7,
     "metadata": {},
     "output_type": "execute_result"
    }
   ],
   "source": [
    "DF_obj.drop_duplicates(['column 3'])\n"
   ]
  }
 ],
 "metadata": {
  "anaconda-cloud": {},
  "kernelspec": {
   "display_name": "Python 3",
   "language": "python",
   "name": "python3"
  },
  "language_info": {
   "codemirror_mode": {
    "name": "ipython",
    "version": 3
   },
   "file_extension": ".py",
   "mimetype": "text/x-python",
   "name": "python",
   "nbconvert_exporter": "python",
   "pygments_lexer": "ipython3",
   "version": "3.7.3"
  }
 },
 "nbformat": 4,
 "nbformat_minor": 1
}